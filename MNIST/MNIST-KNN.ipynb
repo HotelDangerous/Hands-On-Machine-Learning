{
 "cells": [
  {
   "cell_type": "markdown",
   "id": "d3b3b331",
   "metadata": {},
   "source": [
    "# Classification on the MNIST Dataset\n",
    "## Framing the Problem\n",
    "We are asked to build a model that can distinguish the handwritten digits in the MNIST dataset with an accuraccy of <ins>at least</ins> 97 percent.\n",
    "\n",
    "The task we are trying to accomplish is supervised classification. It is supervised because each instance in the data comes with a label and classification because we are only trying to predict one of ten distinct values.\n",
    "\n",
    "Performance will be measured using accuracy:\n",
    "$$\n",
    "Accuracy = \\frac{number\\ correct\\ predictions}{total\\ number\\ of\\ instances}\n",
    "$$\n",
    "\n",
    "Lastly, we are told that the KNeighborsClassifier seems to work well on the dataset. We are urged to atleast consider this classifier when building our model.\n",
    "## Getting the Data\n",
    "The MNIST dataset is a very famous dataset in machine learning. Due to how often this dataset is used in Machine Learning, Scikit-Learn offers a helper function to get the data- *fetch_openml()*. Let's fetch the data:"
   ]
  },
  {
   "cell_type": "code",
   "execution_count": 1,
   "id": "b8866a20",
   "metadata": {},
   "outputs": [
    {
     "name": "stderr",
     "output_type": "stream",
     "text": [
      "/home/keenan/.local/lib/python3.10/site-packages/sklearn/datasets/_openml.py:968: FutureWarning: The default value of `parser` will change from `'liac-arff'` to `'auto'` in 1.4. You can set `parser='auto'` to silence this warning. Therefore, an `ImportError` will be raised from 1.4 if the dataset is dense and pandas is not installed. Note that the pandas parser may return different data types. See the Notes Section in fetch_openml's API doc for details.\n",
      "  warn(\n"
     ]
    },
    {
     "data": {
      "text/plain": [
       "dict_keys(['data', 'target', 'frame', 'categories', 'feature_names', 'target_names', 'DESCR', 'details', 'url'])"
      ]
     },
     "execution_count": 1,
     "metadata": {},
     "output_type": "execute_result"
    }
   ],
   "source": [
    "from sklearn.datasets import fetch_openml\n",
    "\n",
    "mnist = fetch_openml('mnist_784', version=1, as_frame =False)\n",
    "mnist.keys()"
   ]
  },
  {
   "cell_type": "markdown",
   "id": "e162d610",
   "metadata": {},
   "source": [
    "Datasets loaded by Scikit-Learn often have a dictionary structure with these keys. Unsuprisingly, we are interested in the 'data' and 'target' keys. However, if we did not know much about the data; the 'DESCR' key offers a detailed description about this dataset. Let's save the data and labels as X and y respectively:"
   ]
  },
  {
   "cell_type": "code",
   "execution_count": 2,
   "id": "ca71991f",
   "metadata": {},
   "outputs": [],
   "source": [
    "X, y = mnist['data'], mnist['target']"
   ]
  },
  {
   "cell_type": "markdown",
   "id": "35c3afe9",
   "metadata": {},
   "source": [
    "## Explore the Data\n",
    "Let's explore the data a little bit. It's good to have an understanding of what kind of structures were working with. Perhaps some good things to figure out would be what type does our data come in and what is the size of our data? Before we mess with anything, let's save a copy of both X and y so we don't corrupt the originals."
   ]
  },
  {
   "cell_type": "code",
   "execution_count": 3,
   "id": "a6013cfc",
   "metadata": {},
   "outputs": [
    {
     "name": "stdout",
     "output_type": "stream",
     "text": [
      "The shape of our training data and testing data is (70000, 784) and (70000,),respectively.\n"
     ]
    }
   ],
   "source": [
    "X_train_raw, labels = X.copy(), y.copy()\n",
    "\n",
    "print(\"The shape of our training data and testing data is {} and {},\"\n",
    "      \"respectively.\".format(X_train_raw.shape, labels.shape))"
   ]
  },
  {
   "cell_type": "markdown",
   "id": "69953c5f",
   "metadata": {},
   "source": [
    "We see that our training data contains 70,000 instances each with 784 features. The 784 features in the MNIST dataset represent one pixel each of the 28 pixel by 28 pixel digital images in the dataset. Let's view a random instance from this dataset, say the 42nd instance."
   ]
  },
  {
   "cell_type": "code",
   "execution_count": 4,
   "id": "4ac6cad3",
   "metadata": {},
   "outputs": [
    {
     "data": {
      "image/png": "[encoded data removed]",
      "text/plain": [
       "<Figure size 640x480 with 1 Axes>"
      ]
     },
     "metadata": {},
     "output_type": "display_data"
    }
   ],
   "source": [
    "import matplotlib as mpl\n",
    "import matplotlib.pyplot as plt\n",
    "\n",
    "def instance_to_image(some_number):\n",
    "    some_number_image = some_number.reshape(28, 28)  # reshape array\n",
    "    plt.imshow(some_number_image, cmap=\"binary\")\n",
    "    plt.axis(\"off\")\n",
    "    plt.show()\n",
    "\n",
    "instance_to_image(X_train_raw[42])"
   ]
  },
  {
   "cell_type": "markdown",
   "id": "791066af",
   "metadata": {},
   "source": [
    "This looks like a seven. We can verify which number this is by calling labels[42], which returns the label."
   ]
  },
  {
   "cell_type": "code",
   "execution_count": 5,
   "id": "0031ce1f",
   "metadata": {},
   "outputs": [
    {
     "data": {
      "text/plain": [
       "'7'"
      ]
     },
     "execution_count": 5,
     "metadata": {},
     "output_type": "execute_result"
    }
   ],
   "source": [
    "labels[42]"
   ]
  },
  {
   "cell_type": "markdown",
   "id": "84b333d8",
   "metadata": {},
   "source": [
    "We were correct, it is a seven. But we also note that the returned label is a string. We might want to cast this as an integer; most Machine Learning models expect numbers."
   ]
  },
  {
   "cell_type": "code",
   "execution_count": 6,
   "id": "e7df8757",
   "metadata": {},
   "outputs": [],
   "source": [
    "import numpy as np\n",
    "\n",
    "labels = labels.astype(np.uint8)"
   ]
  },
  {
   "cell_type": "markdown",
   "id": "0bd7b116",
   "metadata": {},
   "source": [
    "## Training a Multiclass Classifier\n",
    "Because we are trying to classify each instance as an integer between zero and nine, inclusive, we are dealing with a multiclass classification problem. Before we begin training, we need to make sure that the classifiers we choose can handle multiple classes. The Random Forest, Naive Bayes, and K Nearest Neighbors classifiers can all, natively, handle multiclass classification. Two other classifiers we might be interested in are Stochastic Gradient Descent and Support Vector classifiers, but these distinguish between two classes. Luckily, Scikit-Learn remedies this problem by implementing a one vs. the rest or one vs. one scheme. Hence those classifiers may still be used for multiclass classsification.\n",
    "\n",
    "Let's start by training these classifiers and getting an idea of how they perform by getting the cross_val_scores on the training set.\n",
    "### Creating the Train and Test Sets\n",
    "Before we continue, we need to create the train and test sets. The MNIST dataset has already been shuffled so we don't need to worry about doing it ourselves. It is also classic to take the first 60,000 instances for training and the last 10,000 for testing. We will abide by this tradition:"
   ]
  },
  {
   "cell_type": "code",
   "execution_count": 7,
   "id": "0f63cb0e",
   "metadata": {},
   "outputs": [],
   "source": [
    "X_train, X_test, y_train, y_test = X_train_raw[:60000], X_train_raw[60000:], y[:60000], y[60000:]"
   ]
  },
  {
   "cell_type": "markdown",
   "id": "5d5a9caa",
   "metadata": {},
   "source": [
    "### Random Forest\n",
    "Now let's train a few classifiers and see how they perform. We will start by training a Random Forest classifier:"
   ]
  },
  {
   "cell_type": "code",
   "execution_count": 8,
   "id": "ef8c33f6",
   "metadata": {},
   "outputs": [
    {
     "data": {
      "text/plain": [
       "array([0.9653, 0.9626, 0.9658])"
      ]
     },
     "execution_count": 8,
     "metadata": {},
     "output_type": "execute_result"
    }
   ],
   "source": [
    "from sklearn.ensemble import RandomForestClassifier\n",
    "from sklearn.model_selection import cross_val_score\n",
    "\n",
    "forest_clf = RandomForestClassifier()\n",
    "cross_val_score(forest_clf, X_train, y_train, cv=3, scoring=\"accuracy\")"
   ]
  },
  {
   "cell_type": "markdown",
   "id": "a9b51f10",
   "metadata": {},
   "source": [
    "Wow! The Random Forest Classifier is already achieving very high accuracy scores, above 96 percent with every fold. With some hyperparameter tuning we can surely get this above 97 percent. Before we get too far ahead of ourselves, we should check some other metrics to make sure nothing dubious is going on. Before that though, let's train another classifier.\n",
    "### Naive Bayes\n",
    "We have already found one classifier which shows promise, let's see if the Naive Bayes classifier can produce a similair results:"
   ]
  },
  {
   "cell_type": "code",
   "execution_count": 9,
   "id": "cc816006",
   "metadata": {},
   "outputs": [
    {
     "data": {
      "text/plain": [
       "array([0.5592, 0.5603, 0.5572])"
      ]
     },
     "execution_count": 9,
     "metadata": {},
     "output_type": "execute_result"
    }
   ],
   "source": [
    "from sklearn.naive_bayes import GaussianNB\n",
    "\n",
    "bayes_clf = GaussianNB()\n",
    "cross_val_score(bayes_clf, X_train, y_train, cv=3, scoring=\"accuracy\")"
   ]
  },
  {
   "cell_type": "markdown",
   "id": "37adad65",
   "metadata": {},
   "source": [
    "Oof. The Naive Bayes classifier performed much worse than the Random Forest Classifier. This might be for a number of reasons, but its likely that one of the assumptions that the Naive Bayes classifier makes is invalid for this data. It should be noted though that this is significantly better than random guessing. With random guessing we should expect ten percent accuracy. Let's hope that the K Nearest Neighbor classifier can perform better.\n",
    "### K Nearest Neighbors\n",
    "This is the classifier we we're recommended to try. Let's see if how it performs in our cross validation:"
   ]
  },
  {
   "cell_type": "code",
   "execution_count": 10,
   "id": "88e7706c",
   "metadata": {},
   "outputs": [
    {
     "data": {
      "text/plain": [
       "array([0.9676 , 0.9671 , 0.96755])"
      ]
     },
     "execution_count": 10,
     "metadata": {},
     "output_type": "execute_result"
    }
   ],
   "source": [
    "from sklearn.neighbors import KNeighborsClassifier\n",
    "\n",
    "knn_clf = KNeighborsClassifier()\n",
    "cross_val_score(knn_clf, X_train, y_train, cv=3, scoring=\"accuracy\")"
   ]
  },
  {
   "cell_type": "markdown",
   "id": "633792dd",
   "metadata": {},
   "source": [
    "The information we received about the K Nearest Neighbors classifier was good! This is our best classifier yet; just edging out the Random Forest classsifiers.\n",
    "### Support Vector Classifier\n",
    "This is our first classifier that cannot natively perform multiclass classification. We can still use it, however, because Scikit-Learn will implement a one versus one or one versus the rest scheme- *automatically*:"
   ]
  },
  {
   "cell_type": "code",
   "execution_count": 11,
   "id": "72492205",
   "metadata": {},
   "outputs": [
    {
     "data": {
      "text/plain": [
       "array([0.977 , 0.9738, 0.9739])"
      ]
     },
     "execution_count": 11,
     "metadata": {},
     "output_type": "execute_result"
    }
   ],
   "source": [
    "from sklearn.svm import SVC\n",
    "\n",
    "sv_clf = SVC()\n",
    "cross_val_score(sv_clf, X_train, y_train, cv=3, scoring=\"accuracy\")"
   ]
  },
  {
   "cell_type": "markdown",
   "id": "8c500f0a",
   "metadata": {},
   "source": [
    "Suprisingly, though Support Vector Classifiers don't natively work on  multiclass classification problems, we have achieved our highest accuracy yet! Not only that but we've already beaten the 97 percent minimum that we required of ourselves.\n",
    "### Stochastic Gradient Descent\n",
    "This is ourr other classifier which does not natively handle multiclass classification. Let's see if it can go toe to toe with the Support Vector classifier:"
   ]
  },
  {
   "cell_type": "code",
   "execution_count": 12,
   "id": "b80050a8",
   "metadata": {},
   "outputs": [
    {
     "data": {
      "text/plain": [
       "array([0.88355, 0.87355, 0.8538 ])"
      ]
     },
     "execution_count": 12,
     "metadata": {},
     "output_type": "execute_result"
    }
   ],
   "source": [
    "from sklearn.linear_model import SGDClassifier\n",
    "\n",
    "sgd_clf = SGDClassifier()\n",
    "cross_val_score(sgd_clf, X_train, y_train, cv=3, scoring=\"accuracy\")"
   ]
  },
  {
   "cell_type": "markdown",
   "id": "eb9245ad",
   "metadata": {},
   "source": [
    "The Stochastic Gradient Descent classifier did do pretty well, but with how strongly some of our other classifiers performed we probably wont spend any time trying to improve this one. Let's move forward and investigate our three best models with some other measures.\n",
    "## Performance Measures\n",
    "So we've found some pretty strong classifiers. We will move forward with the three classifiers that performed the best on our initial cross-validation as measured by aaccuracy:\n",
    "1. Support Vector Classifiier (> 97% accuracy)\n",
    "2. K Nearest Neighbors (> 96 % accuracy\n",
    "3. Random Forest Classifier (> 96% accuracy)\n",
    "\n",
    "Let's try to dive a little deeper and see whats going on with these models, where we might improve, and if any of the models have sticking points or draw backs. One drawback already with our best perfroming classifier is that it takes significantly longer to train. Actually, KNN doesn't really train at all, but thats beside the point.\n",
    "\n",
    "### Precision and Recall\n",
    "Precision is the accuracy of the positive predictions. And Recall is the rate of positive instances detected by the classifier. Precision and recall can be expressed as:\n",
    "$$\n",
    "Precision = \\frac{TP}{TP + FP}\n",
    "$$\n",
    "and\n",
    "$$\n",
    "Recall = \\frac{TP}{TP + FN}\n",
    "$$\n",
    "where TP, FP, and FN stand for true positive, false positive, and false negative, respectively."
   ]
  },
  {
   "cell_type": "code",
   "execution_count": 13,
   "id": "5aa2d7a6",
   "metadata": {},
   "outputs": [],
   "source": [
    "from sklearn.metrics import precision_score, recall_score\n",
    "\n",
    "def print_precision_recall(classifier_name, true, predicted):\n",
    "    print(classifier_name.upper())\n",
    "    print(\"PRECISION:\", precision_score(true, predicted, average=\"weighted\"))\n",
    "    print(\"RECALL:\", recall_score(true, predicted, average=\"weighted\"))"
   ]
  },
  {
   "cell_type": "code",
   "execution_count": 14,
   "id": "d3f06b17",
   "metadata": {},
   "outputs": [
    {
     "name": "stdout",
     "output_type": "stream",
     "text": [
      "SUPPORT VECTOR CLASSIFIER\n",
      "PRECISION: 0.9748918993843143\n",
      "RECALL: 0.9749\n"
     ]
    }
   ],
   "source": [
    "from sklearn.model_selection import cross_val_predict\n",
    "\n",
    "svc_predicted = cross_val_predict(sv_clf, X_train, y_train, cv=3)\n",
    "print_precision_recall(\"Support Vector Classifier\", y_train, svc_predicted)"
   ]
  },
  {
   "cell_type": "code",
   "execution_count": 15,
   "id": "a556ca59",
   "metadata": {},
   "outputs": [
    {
     "name": "stdout",
     "output_type": "stream",
     "text": [
      "RANDOM FOREST CLASSIFIER\n",
      "PRECISION: 0.9647351828584824\n",
      "RECALL: 0.96475\n"
     ]
    }
   ],
   "source": [
    "forest_predicted = cross_val_predict(forest_clf, X_train, y_train, cv=3)\n",
    "print_precision_recall(\"Random Forest Classifier\", y_train, forest_predicted)"
   ]
  },
  {
   "cell_type": "code",
   "execution_count": 16,
   "id": "09f20a63",
   "metadata": {},
   "outputs": [
    {
     "name": "stdout",
     "output_type": "stream",
     "text": [
      "K NEAREST NEIGHBORS\n",
      "PRECISION: 0.9676755320854337\n",
      "RECALL: 0.9674166666666667\n"
     ]
    }
   ],
   "source": [
    "knn_predicted = cross_val_predict(knn_clf, X_train, y_train, cv=3)\n",
    "print_precision_recall(\"K Nearest Neighbors\", y_train, knn_predicted)"
   ]
  },
  {
   "cell_type": "markdown",
   "id": "1a3267f6",
   "metadata": {},
   "source": [
    "The recall and precision scores tell the same story as the accuracy. K Nearest Neighbors just edges out the Random Forest classifier as the second best classifier and the Support Vector classifier is still performing the best. We could comparee these by plotting a Receiver Operating Characteristic (ROC) curve and then measuring the are under the curve, but all these classifiers are performing so similairly, we wouldn't be able to descern anything from the graph and the areas would be very similair. Instead lets illuustrate a confusion matrix. This will also show us where each classifier is having the most trouble.\n",
    "### Confusion Matrix\n",
    "A confusion matrix will tell us how many times an instance of class x is classified as class y. We might expect a lot of fives and threes to be confused with one another, because these numbers look similair. Note: columns denote the predicted class while rows denote the actual class."
   ]
  },
  {
   "cell_type": "code",
   "execution_count": 17,
   "id": "44b4be8d",
   "metadata": {},
   "outputs": [],
   "source": [
    "def illustrate_confusion_matrix(mx_title, conf_mx):\n",
    "    print(mx_title.upper())\n",
    "    \n",
    "    row_sum = conf_mx.sum(axis=1, keepdims=True)\n",
    "    norm_conf_mx = conf_mx / row_sum\n",
    "    np.fill_diagonal(norm_conf_mx, 0)  # make diagonal black\n",
    "    plt.matshow(norm_conf_mx, cmap=plt.cm.gray)\n",
    "    plt.show()"
   ]
  },
  {
   "cell_type": "code",
   "execution_count": 18,
   "id": "346b9c38",
   "metadata": {},
   "outputs": [
    {
     "name": "stdout",
     "output_type": "stream",
     "text": [
      "SUPPORT VECTOR CLASSIFIER\n"
     ]
    },
    {
     "data": {
      "image/png": "[encoded data removed]",
      "text/plain": [
       "<Figure size 480x480 with 1 Axes>"
      ]
     },
     "metadata": {},
     "output_type": "display_data"
    },
    {
     "name": "stdout",
     "output_type": "stream",
     "text": [
      "K NEAREST NEIGHBORS\n"
     ]
    },
    {
     "data": {
      "image/png": "[encoded data removed]",
      "text/plain": [
       "<Figure size 480x480 with 1 Axes>"
      ]
     },
     "metadata": {},
     "output_type": "display_data"
    }
   ],
   "source": [
    "from sklearn.metrics import confusion_matrix\n",
    "\n",
    "svc_mat = confusion_matrix(y_train, svc_predicted)\n",
    "knn_mat = confusion_matrix(y_train, knn_predicted)\n",
    "\n",
    "illustrate_confusion_matrix(\"Support Vector Classifier\", svc_mat)\n",
    "illustrate_confusion_matrix(\"K Nearest Neighbors\", knn_mat)"
   ]
  },
  {
   "cell_type": "markdown",
   "id": "5bac80ad",
   "metadata": {},
   "source": [
    "It appears that the Support Vector Classifier struggles most with nines and fours. We can understand intuiitively why this might be true. Nines and fours do kind of resemble eachother. It also has problems with nines and sevens, likely for the same reason. Similairly fives and threes. Interestingly it often misclassifies threes as twos but seldom twos for threes. It also seems to have trouble when the true label is eight.\n",
    "\n",
    "K Nearest Neighbors looks much more assymetric. It often predicts a four to be a nine, but often doesn't predict nines to be fours. The only most symmetric parts are confusion about fives and threes. K nearest Neighbors also seems to struggle in classifying eights.\n",
    "\n",
    "Let's do some data manipulation and see if we can further improve these scores.\n",
    "## Data Manipulation and Augmentation\n",
    "Let's start by just standardizing the data. We can do this with Scikiit-Learns Standard Scaler."
   ]
  },
  {
   "cell_type": "code",
   "execution_count": 19,
   "id": "e916f1f2",
   "metadata": {},
   "outputs": [],
   "source": [
    "from sklearn.preprocessing import StandardScaler\n",
    "\n",
    "scaler = StandardScaler()\n",
    "X_scaled = scaler.fit_transform(X_train.astype(np.float64))"
   ]
  },
  {
   "cell_type": "markdown",
   "id": "fbbea49d",
   "metadata": {},
   "source": [
    "Now that the data has been standardized, let's test our two classifiers to see if they improve with this manipulation:"
   ]
  },
  {
   "cell_type": "code",
   "execution_count": 20,
   "id": "ae110d32",
   "metadata": {},
   "outputs": [
    {
     "data": {
      "text/plain": [
       "array([0.9376, 0.9411, 0.9424])"
      ]
     },
     "execution_count": 20,
     "metadata": {},
     "output_type": "execute_result"
    }
   ],
   "source": [
    "cross_val_score(knn_clf, X_scaled, y_train, cv=3, scoring=\"accuracy\")"
   ]
  },
  {
   "cell_type": "markdown",
   "id": "34f2edca",
   "metadata": {},
   "source": [
    "Our K Nearest Neighbor classifier actually performed worse. Let's see if the same is true for the Support Vector classifier. We might need to consider a different data manipulation."
   ]
  },
  {
   "cell_type": "code",
   "execution_count": 21,
   "id": "6cc5f3c9",
   "metadata": {},
   "outputs": [
    {
     "data": {
      "text/plain": [
       "array([0.9596, 0.9602, 0.961 ])"
      ]
     },
     "execution_count": 21,
     "metadata": {},
     "output_type": "execute_result"
    }
   ],
   "source": [
    "cross_val_score(sv_clf, X_scaled, y_train, cv=3, scoring=\"accuracy\")"
   ]
  },
  {
   "cell_type": "markdown",
   "id": "90ed7da9",
   "metadata": {},
   "source": [
    "It looks like this manipulation was not good. Its likely because we are attempting to force  our pixel values into a distribution that is not representative of our data. Perhaps a better plan would just be to scale the data down so that it fits on the interval from zero to one. Let's try this:"
   ]
  },
  {
   "cell_type": "code",
   "execution_count": 22,
   "id": "ea803f34",
   "metadata": {},
   "outputs": [],
   "source": [
    "from sklearn.preprocessing import normalize\n",
    "\n",
    "X_normalized = normalize(X_train.astype(np.float64))"
   ]
  },
  {
   "cell_type": "markdown",
   "id": "351f7a17",
   "metadata": {},
   "source": [
    "Now that the data has been normalized to fit a zero to one scale, basically all values have been divided by 255 (assuming 255 is the highest pixel intensity in the dataset). Let's see how our models perform:"
   ]
  },
  {
   "cell_type": "code",
   "execution_count": 23,
   "id": "e567029b",
   "metadata": {},
   "outputs": [
    {
     "data": {
      "text/plain": [
       "array([0.97255, 0.97015, 0.97185])"
      ]
     },
     "execution_count": 23,
     "metadata": {},
     "output_type": "execute_result"
    }
   ],
   "source": [
    "cross_val_score(knn_clf, X_normalized, y_train, cv=3, scoring=\"accuracy\")"
   ]
  },
  {
   "cell_type": "markdown",
   "id": "d10f21d6",
   "metadata": {},
   "source": [
    "It appears our data liked this manipulation more. In fact, this is the first time we have reached an average accuracy greater than 97 percent with the K Nearest Neighbors classifier. Let's see how our Support Vector classifier does with this same training set:"
   ]
  },
  {
   "cell_type": "code",
   "execution_count": 24,
   "id": "8bb1bd74",
   "metadata": {},
   "outputs": [
    {
     "data": {
      "text/plain": [
       "array([0.97715, 0.9762 , 0.97665])"
      ]
     },
     "execution_count": 24,
     "metadata": {},
     "output_type": "execute_result"
    }
   ],
   "source": [
    "cross_val_score(sv_clf, X_normalized, y_train, cv=3, scoring=\"accuracy\")"
   ]
  },
  {
   "cell_type": "markdown",
   "id": "c1544969",
   "metadata": {},
   "source": [
    "This normalization of the data does not seem to have hurt or helped our scores. Let's move forward with a more sophisticated data operation.\n",
    "### Data Augmentation\n",
    "Data augmentation is the process of artificially growing the training set by manipulating existing data, then adding the manipulated data to the training set as if it were new data. Here, we will perform data augmentation by taking each image in the dataset, shifting it right, left, up or down by one pixel. Let's right a function to do this.\n",
    "\n",
    "We'll start with a function that shifts the images up one pixel. We can do this by deleting the first 28 elements in the array (the top row of the image), copying the last 28 pixels and then appending them to the array. We copy the last 28 pixels to essentially extend the image by whatever color pixel was at the edge."
   ]
  },
  {
   "cell_type": "code",
   "execution_count": 25,
   "id": "ae3497fd",
   "metadata": {},
   "outputs": [],
   "source": [
    "def shift_image_up(train_set):\n",
    "    for image in train_set:\n",
    "        image = image[28:]\n",
    "        image = np.append(image, image[-28:])\n",
    "    return train_set"
   ]
  },
  {
   "cell_type": "code",
   "execution_count": 26,
   "id": "65b4ca26",
   "metadata": {},
   "outputs": [],
   "source": [
    "X_augmented_up = shift_image_up(X_train.copy())\n",
    "X_augmented = np.append(X_train, X_augmented_up, axis=0)"
   ]
  },
  {
   "cell_type": "markdown",
   "id": "7c797006",
   "metadata": {},
   "source": [
    "Now, we have doubled the size of our training set, so we also need to make labels for this training set. This eill be easy. Just append the list of labels to itself. We can print the shape of the augmented training set hust to make sure everything went to plan. The shape should be (120000, 784)."
   ]
  },
  {
   "cell_type": "code",
   "execution_count": 27,
   "id": "e258712b",
   "metadata": {},
   "outputs": [
    {
     "data": {
      "text/plain": [
       "(120000, 784)"
      ]
     },
     "execution_count": 27,
     "metadata": {},
     "output_type": "execute_result"
    }
   ],
   "source": [
    "y_train_augmented = np.append(y_train, y_train)\n",
    "X_augmented.shape"
   ]
  },
  {
   "cell_type": "markdown",
   "id": "6630ae13",
   "metadata": {},
   "source": [
    "Now, lets train a classifier on this set and see if the accuracy improves. We will use a K Nearest Neighbor classifier. We choose to continue with the KNN classifier because it is only marginally worse, but it runs in a matter of seconds rather than minutes."
   ]
  },
  {
   "cell_type": "code",
   "execution_count": 28,
   "id": "571d07dd",
   "metadata": {},
   "outputs": [
    {
     "data": {
      "text/plain": [
       "array([0.9805  , 0.9811  , 0.981375])"
      ]
     },
     "execution_count": 28,
     "metadata": {},
     "output_type": "execute_result"
    }
   ],
   "source": [
    "cross_val_score(knn_clf, X_augmented, y_train_augmented, cv=3, scoring=\"accuracy\")"
   ]
  },
  {
   "cell_type": "markdown",
   "id": "1eb58cd7",
   "metadata": {},
   "source": [
    "Look at that, we have achieved our highest accuracy yet. We can see that augmenting our data can be useful. Let's perform one more augmentation, but this time shift everything down by one pixel. And dont forget to update the labels."
   ]
  },
  {
   "cell_type": "code",
   "execution_count": 29,
   "id": "9b3a490c",
   "metadata": {},
   "outputs": [],
   "source": [
    "def shift_image_down(train_set):\n",
    "    for image in train_set:\n",
    "        image = image[:-28]\n",
    "        image = np.append(image[:28], image)\n",
    "    return train_set"
   ]
  },
  {
   "cell_type": "code",
   "execution_count": 30,
   "id": "c1465782",
   "metadata": {},
   "outputs": [
    {
     "data": {
      "text/plain": [
       "(180000, 784)"
      ]
     },
     "execution_count": 30,
     "metadata": {},
     "output_type": "execute_result"
    }
   ],
   "source": [
    "X_augmented_down = shift_image_down(X_train.copy())\n",
    "X_augmented = np.append(X_augmented, X_augmented_down, axis=0)\n",
    "\n",
    "y_train_augmented = np.append(y_train_augmented, y_train)\n",
    "\n",
    "X_augmented.shape"
   ]
  },
  {
   "cell_type": "code",
   "execution_count": 31,
   "id": "16413a47",
   "metadata": {},
   "outputs": [
    {
     "data": {
      "text/plain": [
       "array([0.98716667, 0.98716667, 0.98716667])"
      ]
     },
     "execution_count": 31,
     "metadata": {},
     "output_type": "execute_result"
    }
   ],
   "source": [
    "cross_val_score(knn_clf, X_augmented, y_train_augmented, cv=3, scoring=\"accuracy\")"
   ]
  },
  {
   "cell_type": "markdown",
   "id": "40f15a1c",
   "metadata": {},
   "source": [
    "Once again, we have increased our average accuracy. It looks like it might even be possible for us to get to 99 percent accuracy with enough effort. Let's move on to hyperparameter tuning, maybe we can increase our accuracy without adding more data.\n",
    "## Tuning our Model\n",
    "From here forward, we will only be working with the K Nearest Neighbor classifier, this is simply due to its speed. Continuing with the Support Vector classifiers is completely possible, but with limited time and computing power, this option seems better.\n",
    "\n",
    "We will be using Scikit-Learns GridSearchCV tool for tuning the hyperparameters. All we have to do is tell it which hyperparameters we want to tweak and which values we would like to try. The parameters we want to tweak are the weights, algorithm, and leaf_size (when possible) hyperparameters.\n",
    "\n",
    "EDIT: I tried using GridSearchCV to test many hyperparameters, but after running all night it hadn't finished. I then ran about a third of the parameters and got the same result. Now I just want to see if the model performs better with distance weights rather than uniform weights."
   ]
  },
  {
   "cell_type": "code",
   "execution_count": 34,
   "id": "2ca0967f",
   "metadata": {},
   "outputs": [
    {
     "data": {
      "text/plain": [
       "array([0.98323333, 0.98373333])"
      ]
     },
     "execution_count": 34,
     "metadata": {},
     "output_type": "execute_result"
    }
   ],
   "source": [
    "knn_distance_weighted = KNeighborsClassifier(weights = 'distance')\n",
    "cross_val_score(knn_clf, X_augmented, y_train_augmented, cv=2, scoring=\"accuracy\")"
   ]
  },
  {
   "cell_type": "markdown",
   "id": "54ab4d13",
   "metadata": {},
   "source": [
    "Now let's see if it performs any better by checking more neighbors. Currently it checks 5 neighbors. Let's double this to ten."
   ]
  },
  {
   "cell_type": "code",
   "execution_count": 35,
   "id": "6c3594d3",
   "metadata": {},
   "outputs": [
    {
     "data": {
      "text/plain": [
       "array([0.98323333, 0.98373333])"
      ]
     },
     "execution_count": 35,
     "metadata": {},
     "output_type": "execute_result"
    }
   ],
   "source": [
    "knn_distance_weighted = KNeighborsClassifier(n_neighbors=10, weights='distance')\n",
    "cross_val_score(knn_clf, X_augmented, y_train_augmented, cv=2, scoring=\"accuracy\")"
   ]
  },
  {
   "cell_type": "code",
   "execution_count": null,
   "id": "a4f7a816",
   "metadata": {},
   "outputs": [],
   "source": []
  }
 ],
 "metadata": {
  "kernelspec": {
   "display_name": "Python 3 (ipykernel)",
   "language": "python",
   "name": "python3"
  },
  "language_info": {
   "codemirror_mode": {
    "name": "ipython",
    "version": 3
   },
   "file_extension": ".py",
   "mimetype": "text/x-python",
   "name": "python",
   "nbconvert_exporter": "python",
   "pygments_lexer": "ipython3",
   "version": "3.10.6"
  }
 },
 "nbformat": 4,
 "nbformat_minor": 5
}
