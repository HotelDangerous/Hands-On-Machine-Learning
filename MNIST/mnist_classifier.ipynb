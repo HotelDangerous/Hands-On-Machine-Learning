{
 "cells": [
  {
   "cell_type": "markdown",
   "id": "404d6674",
   "metadata": {},
   "source": [
    "# Classification\n",
    "## MNIST\n",
    "We will be studying a classification algorithm on the MNIST dataset. The MNIST dataset, contains 70,000 small images of handwritten numbers together with their labels. This is a very famous Machine Learning dataset, one that some people call the \"hello world\" of machine learning. \n",
    "\n",
    "Scikit-Learn offers many helper functions for downloading popular datasets- *MNIST being one of them*. The following code fetches the MNIST dataset."
   ]
  },
  {
   "cell_type": "code",
   "execution_count": 1,
   "id": "ac9fbe73",
   "metadata": {},
   "outputs": [
    {
     "name": "stderr",
     "output_type": "stream",
     "text": [
      "/home/keenan/.local/lib/python3.10/site-packages/sklearn/datasets/_openml.py:968: FutureWarning: The default value of `parser` will change from `'liac-arff'` to `'auto'` in 1.4. You can set `parser='auto'` to silence this warning. Therefore, an `ImportError` will be raised from 1.4 if the dataset is dense and pandas is not installed. Note that the pandas parser may return different data types. See the Notes Section in fetch_openml's API doc for details.\n",
      "  warn(\n"
     ]
    },
    {
     "data": {
      "text/plain": [
       "dict_keys(['data', 'target', 'frame', 'categories', 'feature_names', 'target_names', 'DESCR', 'details', 'url'])"
      ]
     },
     "execution_count": 1,
     "metadata": {},
     "output_type": "execute_result"
    }
   ],
   "source": [
    "from sklearn.datasets import fetch_openml\n",
    "mnist = fetch_openml('mnist_784', version=1, as_frame=False, )\n",
    "mnist.keys()"
   ]
  },
  {
   "cell_type": "markdown",
   "id": "1a5f4889",
   "metadata": {},
   "source": [
    "Datasets loaded by Scikit-Learn generally have a similair dictionary structure, including the following:\n",
    "* A DESCR key describing the dataset.\n",
    "* A data key cintaining an array with one row per instance and one column paer feature.\n",
    "* A target key containing an array with the labels.\n",
    "\n",
    "Let's check out the describe key and look at these arrays:"
   ]
  },
  {
   "cell_type": "code",
   "execution_count": 2,
   "id": "1bce2a05",
   "metadata": {},
   "outputs": [
    {
     "name": "stdout",
     "output_type": "stream",
     "text": [
      "**Author**: Yann LeCun, Corinna Cortes, Christopher J.C. Burges  \n",
      "**Source**: [MNIST Website](http://yann.lecun.com/exdb/mnist/) - Date unknown  \n",
      "**Please cite**:  \n",
      "\n",
      "The MNIST database of handwritten digits with 784 features, raw data available at: http://yann.lecun.com/exdb/mnist/. It can be split in a training set of the first 60,000 examples, and a test set of 10,000 examples  \n",
      "\n",
      "It is a subset of a larger set available from NIST. The digits have been size-normalized and centered in a fixed-size image. It is a good database for people who want to try learning techniques and pattern recognition methods on real-world data while spending minimal efforts on preprocessing and formatting. The original black and white (bilevel) images from NIST were size normalized to fit in a 20x20 pixel box while preserving their aspect ratio. The resulting images contain grey levels as a result of the anti-aliasing technique used by the normalization algorithm. the images were centered in a 28x28 image by computing the center of mass of the pixels, and translating the image so as to position this point at the center of the 28x28 field.  \n",
      "\n",
      "With some classification methods (particularly template-based methods, such as SVM and K-nearest neighbors), the error rate improves when the digits are centered by bounding box rather than center of mass. If you do this kind of pre-processing, you should report it in your publications. The MNIST database was constructed from NIST's NIST originally designated SD-3 as their training set and SD-1 as their test set. However, SD-3 is much cleaner and easier to recognize than SD-1. The reason for this can be found on the fact that SD-3 was collected among Census Bureau employees, while SD-1 was collected among high-school students. Drawing sensible conclusions from learning experiments requires that the result be independent of the choice of training set and test among the complete set of samples. Therefore it was necessary to build a new database by mixing NIST's datasets.  \n",
      "\n",
      "The MNIST training set is composed of 30,000 patterns from SD-3 and 30,000 patterns from SD-1. Our test set was composed of 5,000 patterns from SD-3 and 5,000 patterns from SD-1. The 60,000 pattern training set contained examples from approximately 250 writers. We made sure that the sets of writers of the training set and test set were disjoint. SD-1 contains 58,527 digit images written by 500 different writers. In contrast to SD-3, where blocks of data from each writer appeared in sequence, the data in SD-1 is scrambled. Writer identities for SD-1 is available and we used this information to unscramble the writers. We then split SD-1 in two: characters written by the first 250 writers went into our new training set. The remaining 250 writers were placed in our test set. Thus we had two sets with nearly 30,000 examples each. The new training set was completed with enough examples from SD-3, starting at pattern # 0, to make a full set of 60,000 training patterns. Similarly, the new test set was completed with SD-3 examples starting at pattern # 35,000 to make a full set with 60,000 test patterns. Only a subset of 10,000 test images (5,000 from SD-1 and 5,000 from SD-3) is available on this site. The full 60,000 sample training set is available.\n",
      "\n",
      "Downloaded from openml.org.\n"
     ]
    }
   ],
   "source": [
    "print(mnist[\"DESCR\"])"
   ]
  },
  {
   "cell_type": "code",
   "execution_count": 3,
   "id": "22988433",
   "metadata": {},
   "outputs": [
    {
     "data": {
      "text/plain": [
       "(70000, 784)"
      ]
     },
     "execution_count": 3,
     "metadata": {},
     "output_type": "execute_result"
    }
   ],
   "source": [
    "X,y = mnist[\"data\"], mnist[\"target\"]\n",
    "X.shape"
   ]
  },
  {
   "cell_type": "markdown",
   "id": "8246771b",
   "metadata": {},
   "source": [
    "There are 70,000 images, and each image has 784 features. Each feature is a pixel and the images are 28 pixels by 28 pixels. Features range in value from 0 (white) to 255 (black). Let's take a peak at an instance of our dataset. To view it as an image we need to grab the instance's feature vector, reshape it into a 28 by 28 grid, and display it using matplotlibs imshow() function:"
   ]
  },
  {
   "cell_type": "code",
   "execution_count": 4,
   "id": "6b549d99",
   "metadata": {},
   "outputs": [
    {
     "data": {
      "image/png": "[encoded data removed]",
      "text/plain": [
       "<Figure size 640x480 with 1 Axes>"
      ]
     },
     "metadata": {},
     "output_type": "display_data"
    }
   ],
   "source": [
    "import matplotlib as mpl\n",
    "import matplotlib.pyplot as plt\n",
    "\n",
    "some_digit = X[0]\n",
    "some_digit_image = some_digit.reshape(28, 28)\n",
    "\n",
    "plt.imshow(some_digit_image, cmap='binary')\n",
    "plt.axis(\"off\")\n",
    "plt.show()"
   ]
  },
  {
   "cell_type": "markdown",
   "id": "9cebe6d0",
   "metadata": {},
   "source": [
    "This looks like a 5. We can check the label by calling y[0]."
   ]
  },
  {
   "cell_type": "code",
   "execution_count": 5,
   "id": "50b2e66e",
   "metadata": {},
   "outputs": [
    {
     "data": {
      "text/plain": [
       "'5'"
      ]
     },
     "execution_count": 5,
     "metadata": {},
     "output_type": "execute_result"
    }
   ],
   "source": [
    "y[0]"
   ]
  },
  {
   "cell_type": "markdown",
   "id": "634094c8",
   "metadata": {},
   "source": [
    "Note that the label is a string. As we've discussed earlier, most Machine Learning algorithms expect numbers, so lets cast y to be an integer:"
   ]
  },
  {
   "cell_type": "code",
   "execution_count": 6,
   "id": "82f46720",
   "metadata": {},
   "outputs": [],
   "source": [
    "import numpy as np\n",
    "\n",
    "y = y.astype(np.uint8)"
   ]
  },
  {
   "cell_type": "markdown",
   "id": "75ae02dc",
   "metadata": {},
   "source": [
    "### Create Train and Test set\n",
    "Before going any further, we should create our train and test sets. It's a good idea to do this prior to looking at the data or making any changes to it, just to insure we have an untouched copy. The MNIST dataset iss already spliit into a training set and a test set. The classic training set is the first 60,000 instances and the training set the last 10,000. The training set is also already shuffled for us, which is important for cross-validation. Let's split up our test and train set:"
   ]
  },
  {
   "cell_type": "code",
   "execution_count": 7,
   "id": "0960f5b1",
   "metadata": {},
   "outputs": [],
   "source": [
    "X_train, X_test, y_train, y_test = X[:60000], X[60000:], y[:60000], y[60000:]"
   ]
  },
  {
   "cell_type": "markdown",
   "id": "6b5850bd",
   "metadata": {},
   "source": [
    "## Training a Binary Classifier\n",
    "Let's simplify the problem for now and only try to identify one digit- *for example, nummber 5*. This \"5-detector\" is an example of a binary classifier. It only distiguishes two classes, 5 or not-5. Let's create the *target vector* for this classification task."
   ]
  },
  {
   "cell_type": "code",
   "execution_count": 8,
   "id": "d186561a",
   "metadata": {},
   "outputs": [],
   "source": [
    "y_train_5 = (y_train == 5)  # True for all 5's, False otherwise\n",
    "y_test_5 = (y_test ==5)"
   ]
  },
  {
   "cell_type": "markdown",
   "id": "16ab7157",
   "metadata": {},
   "source": [
    "Now we need to pick a classifier and train it. A good start is with a Stochastic Gradient Descent (SGD) classifier, we can do this with Scikit-Learn's SGDClassifier class. This classifier is very good at handling large datasets efficiently, in part because it works with one instance at a time. This is very good for live systems."
   ]
  },
  {
   "cell_type": "code",
   "execution_count": 9,
   "id": "cf8f5753",
   "metadata": {},
   "outputs": [
    {
     "data": {
      "text/html": [
       "<style>#sk-container-id-1 {color: black;background-color: white;}#sk-container-id-1 pre{padding: 0;}#sk-container-id-1 div.sk-toggleable {background-color: white;}#sk-container-id-1 label.sk-toggleable__label {cursor: pointer;display: block;width: 100%;margin-bottom: 0;padding: 0.3em;box-sizing: border-box;text-align: center;}#sk-container-id-1 label.sk-toggleable__label-arrow:before {content: \"▸\";float: left;margin-right: 0.25em;color: #696969;}#sk-container-id-1 label.sk-toggleable__label-arrow:hover:before {color: black;}#sk-container-id-1 div.sk-estimator:hover label.sk-toggleable__label-arrow:before {color: black;}#sk-container-id-1 div.sk-toggleable__content {max-height: 0;max-width: 0;overflow: hidden;text-align: left;background-color: #f0f8ff;}#sk-container-id-1 div.sk-toggleable__content pre {margin: 0.2em;color: black;border-radius: 0.25em;background-color: #f0f8ff;}#sk-container-id-1 input.sk-toggleable__control:checked~div.sk-toggleable__content {max-height: 200px;max-width: 100%;overflow: auto;}#sk-container-id-1 input.sk-toggleable__control:checked~label.sk-toggleable__label-arrow:before {content: \"▾\";}#sk-container-id-1 div.sk-estimator input.sk-toggleable__control:checked~label.sk-toggleable__label {background-color: #d4ebff;}#sk-container-id-1 div.sk-label input.sk-toggleable__control:checked~label.sk-toggleable__label {background-color: #d4ebff;}#sk-container-id-1 input.sk-hidden--visually {border: 0;clip: rect(1px 1px 1px 1px);clip: rect(1px, 1px, 1px, 1px);height: 1px;margin: -1px;overflow: hidden;padding: 0;position: absolute;width: 1px;}#sk-container-id-1 div.sk-estimator {font-family: monospace;background-color: #f0f8ff;border: 1px dotted black;border-radius: 0.25em;box-sizing: border-box;margin-bottom: 0.5em;}#sk-container-id-1 div.sk-estimator:hover {background-color: #d4ebff;}#sk-container-id-1 div.sk-parallel-item::after {content: \"\";width: 100%;border-bottom: 1px solid gray;flex-grow: 1;}#sk-container-id-1 div.sk-label:hover label.sk-toggleable__label {background-color: #d4ebff;}#sk-container-id-1 div.sk-serial::before {content: \"\";position: absolute;border-left: 1px solid gray;box-sizing: border-box;top: 0;bottom: 0;left: 50%;z-index: 0;}#sk-container-id-1 div.sk-serial {display: flex;flex-direction: column;align-items: center;background-color: white;padding-right: 0.2em;padding-left: 0.2em;position: relative;}#sk-container-id-1 div.sk-item {position: relative;z-index: 1;}#sk-container-id-1 div.sk-parallel {display: flex;align-items: stretch;justify-content: center;background-color: white;position: relative;}#sk-container-id-1 div.sk-item::before, #sk-container-id-1 div.sk-parallel-item::before {content: \"\";position: absolute;border-left: 1px solid gray;box-sizing: border-box;top: 0;bottom: 0;left: 50%;z-index: -1;}#sk-container-id-1 div.sk-parallel-item {display: flex;flex-direction: column;z-index: 1;position: relative;background-color: white;}#sk-container-id-1 div.sk-parallel-item:first-child::after {align-self: flex-end;width: 50%;}#sk-container-id-1 div.sk-parallel-item:last-child::after {align-self: flex-start;width: 50%;}#sk-container-id-1 div.sk-parallel-item:only-child::after {width: 0;}#sk-container-id-1 div.sk-dashed-wrapped {border: 1px dashed gray;margin: 0 0.4em 0.5em 0.4em;box-sizing: border-box;padding-bottom: 0.4em;background-color: white;}#sk-container-id-1 div.sk-label label {font-family: monospace;font-weight: bold;display: inline-block;line-height: 1.2em;}#sk-container-id-1 div.sk-label-container {text-align: center;}#sk-container-id-1 div.sk-container {/* jupyter's `normalize.less` sets `[hidden] { display: none; }` but bootstrap.min.css set `[hidden] { display: none !important; }` so we also need the `!important` here to be able to override the default hidden behavior on the sphinx rendered scikit-learn.org. See: https://github.com/scikit-learn/scikit-learn/issues/21755 */display: inline-block !important;position: relative;}#sk-container-id-1 div.sk-text-repr-fallback {display: none;}</style><div id=\"sk-container-id-1\" class=\"sk-top-container\"><div class=\"sk-text-repr-fallback\"><pre>SGDClassifier(random_state=42)</pre><b>In a Jupyter environment, please rerun this cell to show the HTML representation or trust the notebook. <br />On GitHub, the HTML representation is unable to render, please try loading this page with nbviewer.org.</b></div><div class=\"sk-container\" hidden><div class=\"sk-item\"><div class=\"sk-estimator sk-toggleable\"><input class=\"sk-toggleable__control sk-hidden--visually\" id=\"sk-estimator-id-1\" type=\"checkbox\" checked><label for=\"sk-estimator-id-1\" class=\"sk-toggleable__label sk-toggleable__label-arrow\">SGDClassifier</label><div class=\"sk-toggleable__content\"><pre>SGDClassifier(random_state=42)</pre></div></div></div></div></div>"
      ],
      "text/plain": [
       "SGDClassifier(random_state=42)"
      ]
     },
     "execution_count": 9,
     "metadata": {},
     "output_type": "execute_result"
    }
   ],
   "source": [
    "from sklearn.linear_model import SGDClassifier\n",
    "\n",
    "sgd_clf = SGDClassifier(random_state=42)\n",
    "sgd_clf.fit(X_train, y_train_5)"
   ]
  },
  {
   "cell_type": "markdown",
   "id": "9ebd5ec7",
   "metadata": {},
   "source": [
    "Now let's test our model on the 5 we viewed earlier. The output of sgd_clf.predict([some_digit]) should be True."
   ]
  },
  {
   "cell_type": "code",
   "execution_count": 10,
   "id": "448ca25a",
   "metadata": {},
   "outputs": [
    {
     "data": {
      "text/plain": [
       "array([ True])"
      ]
     },
     "execution_count": 10,
     "metadata": {},
     "output_type": "execute_result"
    }
   ],
   "source": [
    "sgd_clf.predict([some_digit])"
   ]
  },
  {
   "cell_type": "markdown",
   "id": "5731dfcb",
   "metadata": {},
   "source": [
    "## Performance Measures\n",
    "Evaluating a classifier can be significantly trickier than evaluating a regressor. There are many performance measures available. Let's explore a number of these options:\n",
    "\n",
    "### Measuring Accuracy Using Cross Validation\n",
    "A good place to start would be using cross validation, just as we did with the housing price predictor.\n",
    "#### Implementing Cross-Validation\n",
    "Occasionally we will need more control over the cross-validation process than what Scikit-Learn provides off the shelf. In these cases, we will need to implement cross validation ourselves. Let's write a function to do roughly the same thing as Scikit-Learn's cross_val_score() function."
   ]
  },
  {
   "cell_type": "code",
   "execution_count": 11,
   "id": "60ea0093",
   "metadata": {},
   "outputs": [
    {
     "name": "stdout",
     "output_type": "stream",
     "text": [
      "0.9669\n",
      "0.91625\n",
      "0.96785\n"
     ]
    }
   ],
   "source": [
    "from sklearn.model_selection import StratifiedKFold\n",
    "from sklearn.base import clone\n",
    "\n",
    "skfolds = StratifiedKFold(n_splits=3, shuffle=True, random_state=42)\n",
    "\n",
    "for train_index, test_index in skfolds.split(X_train, y_train_5):\n",
    "    clone_clf = clone(sgd_clf)\n",
    "    X_train_folds = X_train[train_index]\n",
    "    y_train_folds = y_train_5[train_index]\n",
    "    X_test_folds = X_train[test_index]\n",
    "    y_test_folds = y_train_5[test_index]\n",
    "    \n",
    "    clone_clf.fit(X_train_folds, y_train_folds)\n",
    "    y_pred = clone_clf.predict(X_test_folds)\n",
    "    n_correct = sum(y_pred == y_test_folds)\n",
    "    print(n_correct/len(y_pred))"
   ]
  },
  {
   "cell_type": "markdown",
   "id": "03e0b441",
   "metadata": {},
   "source": [
    "We might be tempted to get excited about these scores, I mean each fold resulted in an error of less than 10 percent! But remember, only about ten percent of the numbers in our dataset are 5's. If we wrote a dumb classifier that guesses not-5 every single time, we would get an accuracy of 90 percent, i.e. an error of just about 10 percent.\n",
    "\n",
    "This is all to demonstrate that accuracy is not the preffered performance measure for classifiers, especially those that are dealing with skewed data. Our data here is particularly skewed because the not-5 class appears about nine times as often as the 5 class.\n",
    "### Confusion Matrix\n",
    "A much better way to evaluate the data is to build and view a confusion matrix. The general idea is to count how many times an instance of class A is predicted to be an element of class B. For example: how many times was an instance from class 5 confused with an instance of class 3? To find the answer to this question, we would check the fifth row and third column of the confusion matrix.\n",
    "\n",
    "To compute the confusion matrix, we can use the cross_val_predict() function. Just like cross_val_scores(), cross_val_predict() performs a K-fold cross-validation, but instead of returning the evaluation scores, it returns the predictions made on each test fold. After training with cross_val_predict, we can get the confusion matrix with sklearn.metric's confusion_matrix() function, all we have to do is pass it the target class and the predicted classes."
   ]
  },
  {
   "cell_type": "code",
   "execution_count": 12,
   "id": "af5f8afe",
   "metadata": {},
   "outputs": [
    {
     "data": {
      "text/plain": [
       "array([[53892,   687],\n",
       "       [ 1891,  3530]])"
      ]
     },
     "execution_count": 12,
     "metadata": {},
     "output_type": "execute_result"
    }
   ],
   "source": [
    "from sklearn.model_selection import cross_val_predict\n",
    "from sklearn.metrics import confusion_matrix\n",
    "\n",
    "y_train_pred = cross_val_predict(sgd_clf, X_train, y_train_5, cv=3)\n",
    "confusion_matrix(y_train_5, y_train_pred)"
   ]
  },
  {
   "cell_type": "markdown",
   "id": "c2d3d467",
   "metadata": {},
   "source": [
    "Each row in the confussion matrix represents an *actual class* and each column a *predicted class*. Element $a_{11}$ represents non-5's that were classified as non-5's (true negatives) and element $a_{21}$ represents non-5's that were classified as a 5 (false positives). On the other hand, element $a_{12}$ represents the number of 5's classified as non-5's (false negatives) and element $a_{22}$ 5's classified as 5's (true positives). A perfect classifiers confusion matrix would only have non-zero numbers on the diagonal.\n",
    "\n",
    "The confusion matrix gives us a lot of information, but sometimes a more concise metric is prefered. An interesting one is called *precision*, the accuracy of the positive predictions:\n",
    "$$\n",
    "precision = \\frac{TP}{TP + FP}\n",
    "$$\n",
    "where TP is the number of true positives and FP the number of false positives. It is common, however, for precision to be used together with another metric called *recall* (a.k.a. *sensitivity*, *true positive rate (TPR)*), the ratio ratio of positive instances that are correctly detected by the classifier.\n",
    "$$\n",
    "recall = \\frac{TP}{TP + FN}\n",
    "$$\n",
    "where TP is defined as obove and FN is the number of false negatives.\n",
    "### Precision and Recall\n",
    "Scifit-Learn provides several functions to compute classifier metrics,  including precision and recall:"
   ]
  },
  {
   "cell_type": "code",
   "execution_count": 13,
   "id": "bdd72a2c",
   "metadata": {},
   "outputs": [
    {
     "name": "stdout",
     "output_type": "stream",
     "text": [
      "PRECISION: 0.8370879772350012\n",
      "RECALL: 0.6511713705958311\n"
     ]
    }
   ],
   "source": [
    "from sklearn.metrics import precision_score, recall_score\n",
    "print(\"PRECISION:\", precision_score(y_train_5, y_train_pred))\n",
    "print(\"RECALL:\", recall_score(y_train_5, y_train_pred))"
   ]
  },
  {
   "cell_type": "markdown",
   "id": "91e3ac61",
   "metadata": {},
   "source": [
    "Now our 5 detector doesn't look so good. When it claims an image represents a 5, it's right 83 percent of the time, which is good, but it only detects 65 percent of the 5's. In other words, it classifies 83 percent of 65 percent of the fives correctly, this is about as good as random guessing. \n",
    "\n",
    "It is often convenient to combine the precision and recall into a single metric called the $F_1 score$. It is especially useful when you need to compare two classifiers. The $F_1 score$ is the *harmonic mean* of precision and recall. The harmonic mean is different from the mean in that it gives much higher weight to low values. As a result the $F_1 score$ is only high if both precision and recall are high.\n",
    "$$\n",
    "F_1 = \\frac{2}{\\frac{1}{precision}+\\frac{1}{recall}} = \\frac{TP}{TP + \\frac{FN + FP}{2}}\n",
    "$$\n",
    "To compute the $F_1 score$, we simply call sklearn.metrics f1_score function as  follows:"
   ]
  },
  {
   "cell_type": "code",
   "execution_count": 14,
   "id": "f8f8bc46",
   "metadata": {},
   "outputs": [
    {
     "data": {
      "text/plain": [
       "0.7325171197343846"
      ]
     },
     "execution_count": 14,
     "metadata": {},
     "output_type": "execute_result"
    }
   ],
   "source": [
    "from sklearn.metrics import f1_score\n",
    "f1_score(y_train_5, y_train_pred)"
   ]
  },
  {
   "cell_type": "markdown",
   "id": "84fd6b49",
   "metadata": {},
   "source": [
    "The $F_1 score$ favors classifiers with similair precision and recall. This is not always what you want though. Suppose we built a model that detects videos that are safe for kids. We would prefer a classifier that rejects many good videos (low recall) but lets  few very bad videos through (high precision). On the other hand, if we wanted to fdetect shop lifters, we might be okay with low precision, many non shop lifters get classified as shop lifters, but high precision. Meaning that all true shoplifters are classified as shop lifters.\n",
    "\n",
    "So how do we decide what threshold to use (the trade ooff between precision/recall)? First, we need to use cross_val_predict() to get the scores of all instances in the training set, but this time we should specify that we want to geet back decision scores instead of predictions. With these scores, we can use the precision_recall_curve() function to compute precision and recall for all possible thresholds:"
   ]
  },
  {
   "cell_type": "code",
   "execution_count": 15,
   "id": "10da5661",
   "metadata": {},
   "outputs": [
    {
     "data": {
      "image/png": "[encoded data removed]",
      "text/plain": [
       "<Figure size 640x480 with 1 Axes>"
      ]
     },
     "metadata": {},
     "output_type": "display_data"
    }
   ],
   "source": [
    "from sklearn.metrics import precision_recall_curve\n",
    "\n",
    "y_scores = cross_val_predict(sgd_clf, X_train, y_train_5, cv=3, method=\"decision_function\")\n",
    "\n",
    "precisions, recalls, thresholds = precision_recall_curve(y_train_5, y_scores)\n",
    "\n",
    "def plot_precision_recall_vs_thresholds(precisions, recalls, thresholds):\n",
    "    plt.plot(thresholds, precisions[:-1], \"b--\", label=\"Precision\")\n",
    "    plt.plot(thresholds, recalls[:-1], \"g--\", label=\"Recall\")\n",
    "    plt.xlabel(\"Threshold\")\n",
    "    plt.legend(bbox_to_anchor=(1.05, 1), loc='upper left', borderaxespad=0.)\n",
    "    plt.grid(which=\"both\", axis=\"both\", color='gray', linestyle='-', linewidth=1)\n",
    "\n",
    "plot_precision_recall_vs_thresholds(precisions, recalls, thresholds)\n",
    "plt.show()"
   ]
  },
  {
   "cell_type": "markdown",
   "id": "053bcb0d",
   "metadata": {},
   "source": [
    "Another good way to select a good precision/recall is by plotting precision and recall against eachother. If we see a sharp decline on the graph, we might want to choose a precision that occurs shortly before that drop. Let's examine the following and choose a recall:"
   ]
  },
  {
   "cell_type": "code",
   "execution_count": 16,
   "id": "ba4b413b",
   "metadata": {},
   "outputs": [
    {
     "data": {
      "image/png": "[encoded data removed]",
      "text/plain": [
       "<Figure size 640x480 with 1 Axes>"
      ]
     },
     "metadata": {},
     "output_type": "display_data"
    }
   ],
   "source": [
    "plt.plot(recalls, precisions)\n",
    "plt.xlabel(\"Recall\")\n",
    "plt.ylabel(\"Precision\")\n",
    "plt.grid(which=\"both\", axis=\"both\", visible=True)"
   ]
  },
  {
   "cell_type": "markdown",
   "id": "88bd61f3",
   "metadata": {},
   "source": [
    "Perhaps a recall of around 60 percent would do us well.\n",
    "### The Receiver Operating Characteristic (ROC) Curve\n",
    "The *receiver operating characteristic* is another common tool used with binary classifiers. THE ROC curve is similair to the precision-recall-curve, but instaed of plotting precision and recall, it plots tthe *true positive rate* (recall) against the *false positive rate* (FPR). The FPR is the ratio of negative instances that are incorrectly classified as positive. It is equal to:\n",
    "$$\n",
    "FPR = 1 - TNR\n",
    "$$\n",
    "where TNR stands for the *true negative rate*, the number of negative instances that were correctly classsified.\n",
    "\n",
    "To plot the ROC curve, we need to use the roc_curve() function to compute the TPR and FPR for various threshold values. Then, we can plot the FPR against the TPR using MatPlotlib:"
   ]
  },
  {
   "cell_type": "code",
   "execution_count": 17,
   "id": "603d3bb0",
   "metadata": {},
   "outputs": [
    {
     "data": {
      "image/png": "[encoded data removed]",
      "text/plain": [
       "<Figure size 640x480 with 1 Axes>"
      ]
     },
     "metadata": {},
     "output_type": "display_data"
    }
   ],
   "source": [
    "from sklearn.metrics import roc_curve\n",
    "\n",
    "fpr, tpr, thresholds = roc_curve(y_train_5, y_scores)\n",
    "\n",
    "def plot_roc_curve(fpr, tpr, label=None):\n",
    "    plt.plot(fpr, tpr, linewidth=2, label=label)\n",
    "    plt.plot([0,1], [0,1], 'k--')  # dashed diagonal\n",
    "    plt.xlabel(\"False Positive Rate\")\n",
    "    plt.ylabel(\"True Positive Rate\")\n",
    "    plt.grid(visible=True, which=\"both\", linewidth=1)\n",
    "\n",
    "plot_roc_curve(fpr, tpr)\n",
    "plt.show()"
   ]
  },
  {
   "cell_type": "markdown",
   "id": "d32592f5",
   "metadata": {},
   "source": [
    "Once again there is a trade  off: the higher the recall (TPR), the more false positives the classifier produces. The dotted line represents the ROC curve of a truely random classifier; a good classifier is far away from that line,, toward the top left corner.\n",
    "\n",
    "One way to compare classifiers is to measure the *area under the curve (AUC)*, a perfect classifier will have an AUC of 1, whereas a purely random classifier will have an ROC AUC of 0.5. Scikit-Learn provides a function for computing the ROC AUC: "
   ]
  },
  {
   "cell_type": "code",
   "execution_count": 18,
   "id": "b1018dad",
   "metadata": {},
   "outputs": [
    {
     "data": {
      "text/plain": [
       "0.9604938554008616"
      ]
     },
     "execution_count": 18,
     "metadata": {},
     "output_type": "execute_result"
    }
   ],
   "source": [
    "from sklearn.metrics import roc_auc_score\n",
    "\n",
    "\n",
    "roc_auc_score(y_train_5, y_scores)"
   ]
  },
  {
   "cell_type": "markdown",
   "id": "db014e8d",
   "metadata": {},
   "source": [
    "Let's now train a RandomForestClassifier and compare its ROC curve and ROC AUC score to that of the StochasticGradientDescent classifier. First, we need to get scores for each instance in the training set. Note: the RandomForestClassifier does not have a decision function, instead it hhas a predict_proba() method. Scokit-Learn classifiers generally have one or the other and sometimes both. The predict_proba() method returns an array containing a row per instance and a column per class, each containing the probability that the instance belongs to that class. The roc_curve() function expects labels and scores, but instead we can give it class probabilities. Let's use the positive class probabilities as the score and plot the ROC curve:"
   ]
  },
  {
   "cell_type": "code",
   "execution_count": 19,
   "id": "fa7f201a",
   "metadata": {},
   "outputs": [
    {
     "data": {
      "image/png": "[encoded data removed]",
      "text/plain": [
       "<Figure size 640x480 with 1 Axes>"
      ]
     },
     "metadata": {},
     "output_type": "display_data"
    }
   ],
   "source": [
    "from sklearn.ensemble import RandomForestClassifier\n",
    "\n",
    "forest_clf = RandomForestClassifier(random_state=42)\n",
    "y_probas_forest = cross_val_predict(forest_clf, X_train, y_train_5, cv=3, method=\"predict_proba\")\n",
    "y_scores_forest = y_probas_forest[:,1]  # scores = proba of positive class\n",
    "fpr_forest, tpr_forest, threshold_forest = roc_curve(y_train_5, y_scores_forest)\n",
    "\n",
    "plt.plot(fpr, tpr, \"b:\", label=\"SGD\")\n",
    "plot_roc_curve(fpr_forest, tpr_forest, \"Random Forest\")\n",
    "plt.legend(loc=\"lower right\")\n",
    "plt.show()"
   ]
  },
  {
   "cell_type": "markdown",
   "id": "1d5095e6",
   "metadata": {},
   "source": [
    "Wow! the Random Forest Classifier does much better, look how tight that curve is in the top  right hand corner. Remember the ROC AUC of the Stochastic Gradient Descent Classifier was just over 0.96, lets find the area under the curve for our Random Forest Classifier:"
   ]
  },
  {
   "cell_type": "code",
   "execution_count": 20,
   "id": "27fcff67",
   "metadata": {},
   "outputs": [
    {
     "data": {
      "text/plain": [
       "0.9983436731328145"
      ]
     },
     "execution_count": 20,
     "metadata": {},
     "output_type": "execute_result"
    }
   ],
   "source": [
    "roc_auc_score(y_train_5, y_scores_forest)"
   ]
  },
  {
   "cell_type": "markdown",
   "id": "b8ed4ada",
   "metadata": {},
   "source": [
    "## Multiclass Classification\n",
    "Whereas binary classifiers distinguish between two classes, *multiclass classifiers* distinguish between more than two classes. Some algorithms such as Logistic Regression, Random Forestm and Naive Bayes classifiers are capable of handling many classes natively. Others such as Stochastic Gradient Descent or Support Vector Machine classifiers are strictly binary classifiers.\n",
    "\n",
    "If we want to do multiclass classsification with a binary classifier, we have to come up with a clever scheme. One clever scheme is called one versus the rest (OVR), this is essentially what we started with the 5 classisifer. If we had one of these for all digits, we could stick with the prediction that has the highest probability of being correct. Another potential idea is the one versus one approach, where we'd have 45 different classifiers choosing between one of two potential numbers then taking a kind of voting scheme choose the most likely number.\n",
    "\n",
    "Scikit-Learn detects when you try to use a binary classifier on a multiclass problem, then implements an OVR or OVO scheme automatically. Let's give this a try with the MNIST dataset:"
   ]
  },
  {
   "cell_type": "code",
   "execution_count": 21,
   "id": "cd94bf69",
   "metadata": {},
   "outputs": [
    {
     "data": {
      "text/plain": [
       "array([5], dtype=uint8)"
      ]
     },
     "execution_count": 21,
     "metadata": {},
     "output_type": "execute_result"
    }
   ],
   "source": [
    "from sklearn.svm import SVC\n",
    "svm_clf = SVC()\n",
    "svm_clf.fit(X_train, y_train)\n",
    "svm_clf.predict([some_digit])"
   ]
  },
  {
   "cell_type": "markdown",
   "id": "a55ea637",
   "metadata": {},
   "source": [
    "It predicted correctly! Training a Stochastic Gradient Descent classifier would be just as easy. Lets give that a try and then print the decision function values to see how convinced it is that some_digit is a five."
   ]
  },
  {
   "cell_type": "code",
   "execution_count": 22,
   "id": "1db292ab",
   "metadata": {},
   "outputs": [
    {
     "data": {
      "text/plain": [
       "array([3], dtype=uint8)"
      ]
     },
     "execution_count": 22,
     "metadata": {},
     "output_type": "execute_result"
    }
   ],
   "source": [
    "sgd_clf.fit(X_train, y_train)\n",
    "sgd_clf.predict([some_digit])"
   ]
  },
  {
   "cell_type": "markdown",
   "id": "4af73420",
   "metadata": {},
   "source": [
    "Interesting, it got it wrong. Let's  use the decision_function() method to see what values it assigned to each number. The higher the better."
   ]
  },
  {
   "cell_type": "code",
   "execution_count": 23,
   "id": "4f1f85b0",
   "metadata": {},
   "outputs": [
    {
     "data": {
      "text/plain": [
       "array([[-31893.03095419, -34419.69069632,  -9530.63950739,\n",
       "          1823.73154031, -22320.14822878,  -1385.80478895,\n",
       "        -26188.91070951, -16147.51323997,  -4604.35491274,\n",
       "        -12050.767298  ]])"
      ]
     },
     "execution_count": 23,
     "metadata": {},
     "output_type": "execute_result"
    }
   ],
   "source": [
    "sgd_clf.decision_function([some_digit])"
   ]
  },
  {
   "cell_type": "markdown",
   "id": "cca251b0",
   "metadata": {},
   "source": [
    "It appears the classifiers second guess would have been 5, but it was fairly certain that the digit was a 3. Let's see how the rest of this model is performing by finding thhe cross-validation scores."
   ]
  },
  {
   "cell_type": "code",
   "execution_count": 24,
   "id": "9ee077b9",
   "metadata": {},
   "outputs": [
    {
     "data": {
      "text/plain": [
       "array([0.87365, 0.85835, 0.8689 ])"
      ]
     },
     "execution_count": 24,
     "metadata": {},
     "output_type": "execute_result"
    }
   ],
   "source": [
    "from sklearn.model_selection import cross_val_score\n",
    "\n",
    "cross_val_score(sgd_clf, X_train, y_train, cv=3, scoring=\"accuracy\")"
   ]
  },
  {
   "cell_type": "markdown",
   "id": "52137a50",
   "metadata": {},
   "source": [
    "Even though it scored our sample digit wrong, it has scored over 85 percent on the larger data. This is a lot better than the 10 percent accuracy we would expect with random guessing. We can however do better. In fact we might be able to expect an accuracy around 90 percent as simply by scaling the input data."
   ]
  },
  {
   "cell_type": "code",
   "execution_count": 25,
   "id": "e7cbac4b",
   "metadata": {},
   "outputs": [
    {
     "data": {
      "text/plain": [
       "array([0.8983, 0.891 , 0.9018])"
      ]
     },
     "execution_count": 25,
     "metadata": {},
     "output_type": "execute_result"
    }
   ],
   "source": [
    "from sklearn.preprocessing import StandardScaler\n",
    "\n",
    "scaler = StandardScaler()\n",
    "X_train_scaled = scaler.fit_transform(X_train.astype(np.float64))\n",
    "cross_val_score(sgd_clf, X_train_scaled, y_train, cv=3, scoring=\"accuracy\")"
   ]
  },
  {
   "cell_type": "markdown",
   "id": "f0b9f865",
   "metadata": {},
   "source": [
    "## Error Analysis\n",
    "If this were a real project, we'd follow the steps in the Machine Learning checklist. We'd explore some data preparation options, try out multiple models (shortliisting the best ones and fine tuning their hyperparameters), and automate as much as possible. Let's assume we've found a good model and are now looking for ways to improve it. To do this, we could start by analyzing where it makes mistakes.\n",
    "\n",
    "First, lets look at the confusion matrix. We will need to make predictions using cross_val_predict, then call the confusion_matrix() function. Just like we had done earlier:"
   ]
  },
  {
   "cell_type": "code",
   "execution_count": 26,
   "id": "8e64abaa",
   "metadata": {},
   "outputs": [
    {
     "data": {
      "text/plain": [
       "array([[5577,    0,   22,    5,    8,   43,   36,    6,  225,    1],\n",
       "       [   0, 6400,   37,   24,    4,   44,    4,    7,  212,   10],\n",
       "       [  27,   27, 5220,   92,   73,   27,   67,   36,  378,   11],\n",
       "       [  22,   17,  117, 5227,    2,  203,   27,   40,  403,   73],\n",
       "       [  12,   14,   41,    9, 5182,   12,   34,   27,  347,  164],\n",
       "       [  27,   15,   30,  168,   53, 4444,   75,   14,  535,   60],\n",
       "       [  30,   15,   42,    3,   44,   97, 5552,    3,  131,    1],\n",
       "       [  21,   10,   51,   30,   49,   12,    3, 5684,  195,  210],\n",
       "       [  17,   63,   48,   86,    3,  126,   25,   10, 5429,   44],\n",
       "       [  25,   18,   30,   64,  118,   36,    1,  179,  371, 5107]])"
      ]
     },
     "execution_count": 26,
     "metadata": {},
     "output_type": "execute_result"
    }
   ],
   "source": [
    "y_train_pred = cross_val_predict(sgd_clf, X_train_scaled, y_train, cv=3)\n",
    "conf_mx = confusion_matrix(y_train, y_train_pred)\n",
    "conf_mx"
   ]
  },
  {
   "cell_type": "markdown",
   "id": "2bf29d27",
   "metadata": {},
   "source": [
    "This matrix contains a lot of numbers and is kind of overwhelming. Perhaps it would be better to represent this matrix as an image using Matplotlib's matshow() function:"
   ]
  },
  {
   "cell_type": "code",
   "execution_count": 27,
   "id": "b660d9bd",
   "metadata": {},
   "outputs": [
    {
     "data": {
      "image/png": "[encoded data removed]",
      "text/plain": [
       "<Figure size 480x480 with 1 Axes>"
      ]
     },
     "metadata": {},
     "output_type": "display_data"
    }
   ],
   "source": [
    "plt.matshow(conf_mx, cmap=plt.cm.gray)\n",
    "plt.show()"
   ]
  },
  {
   "cell_type": "markdown",
   "id": "1d473e3f",
   "metadata": {},
   "source": [
    "This confusion matrix looks pretty good,, since most of the light squares are on tthe main diagnol meaning they were classified correctly. The 5's look slightly darker than the rest of the squares, which might meaan there are less 5's in the dataset or that the classifier is not performing well on the 5's.\n",
    "\n",
    "Let's focus the plot on errors. First, we need to divide each number in the confusion matrix by the number of images in the corresponding class. This allows us to compare error rates, rather than absolute number of errors. We should also fill the diagonal with 0's to keep only the error rates."
   ]
  },
  {
   "cell_type": "code",
   "execution_count": 29,
   "id": "2971c7ac",
   "metadata": {},
   "outputs": [
    {
     "data": {
      "image/png": "[encoded data removed]",
      "text/plain": [
       "<Figure size 480x480 with 1 Axes>"
      ]
     },
     "metadata": {},
     "output_type": "display_data"
    }
   ],
   "source": [
    "row_sum = conf_mx.sum(axis=1, keepdims=True)\n",
    "norm_conf_mx = conf_mx / row_sum\n",
    "\n",
    "np.fill_diagonal(norm_conf_mx, 0)\n",
    "plt.matshow(norm_conf_mx, cmap=plt.cm.gray)\n",
    "plt.show()"
   ]
  },
  {
   "cell_type": "markdown",
   "id": "95e49976",
   "metadata": {},
   "source": [
    "We can clearly see the kinds of errors the classifier is making. Remember that rows represent actual classes and columns predited classes. We can see that many of the classes are being incorrectly classified as 8's. However, 8's themselves are being classified pretty well. We can also see that 3's and 5's get mixed up fairly often in both directions.\n",
    "\n",
    "Looking at this confusion matrix, we learn that we should spend some time on reducing false 8's. Maybe we could find more data of images that look like 8's, but are not. We could also engineer some new features, like number of closed loops (8's have 2 closed loopsn and 6's only 1). We could also use Scikit-Learn, Pillow, or OpenCV to do some imaage preprocessing which might make the closed loops stand out more.\n",
    "## Multilabel Classification\n",
    "Until now each instance has only been assigned to one class. In some cases you may want your classifier to output multiple classes for each instance. Consider a face-recognition classifier: what should it do if it recognizes several people in the same picture? It should attach one tag for each person iit recognizes. Say the classifier has been trained to recognize the faces of Alice, Charlie, and Bob. If Alice and Bob are in frame, it should output [1, 0, 1] meaning Alice \"yes\", Charlie \"no\", Bob \"yes\". Such a system that outputs multiple binary tags is called a *multilabel classification* system.\n",
    "\n",
    "We won't go into facial recognition right now, but let's look at a simpler example:"
   ]
  },
  {
   "cell_type": "code",
   "execution_count": 30,
   "id": "01dc24c9",
   "metadata": {},
   "outputs": [
    {
     "data": {
      "text/html": [
       "<style>#sk-container-id-2 {color: black;background-color: white;}#sk-container-id-2 pre{padding: 0;}#sk-container-id-2 div.sk-toggleable {background-color: white;}#sk-container-id-2 label.sk-toggleable__label {cursor: pointer;display: block;width: 100%;margin-bottom: 0;padding: 0.3em;box-sizing: border-box;text-align: center;}#sk-container-id-2 label.sk-toggleable__label-arrow:before {content: \"▸\";float: left;margin-right: 0.25em;color: #696969;}#sk-container-id-2 label.sk-toggleable__label-arrow:hover:before {color: black;}#sk-container-id-2 div.sk-estimator:hover label.sk-toggleable__label-arrow:before {color: black;}#sk-container-id-2 div.sk-toggleable__content {max-height: 0;max-width: 0;overflow: hidden;text-align: left;background-color: #f0f8ff;}#sk-container-id-2 div.sk-toggleable__content pre {margin: 0.2em;color: black;border-radius: 0.25em;background-color: #f0f8ff;}#sk-container-id-2 input.sk-toggleable__control:checked~div.sk-toggleable__content {max-height: 200px;max-width: 100%;overflow: auto;}#sk-container-id-2 input.sk-toggleable__control:checked~label.sk-toggleable__label-arrow:before {content: \"▾\";}#sk-container-id-2 div.sk-estimator input.sk-toggleable__control:checked~label.sk-toggleable__label {background-color: #d4ebff;}#sk-container-id-2 div.sk-label input.sk-toggleable__control:checked~label.sk-toggleable__label {background-color: #d4ebff;}#sk-container-id-2 input.sk-hidden--visually {border: 0;clip: rect(1px 1px 1px 1px);clip: rect(1px, 1px, 1px, 1px);height: 1px;margin: -1px;overflow: hidden;padding: 0;position: absolute;width: 1px;}#sk-container-id-2 div.sk-estimator {font-family: monospace;background-color: #f0f8ff;border: 1px dotted black;border-radius: 0.25em;box-sizing: border-box;margin-bottom: 0.5em;}#sk-container-id-2 div.sk-estimator:hover {background-color: #d4ebff;}#sk-container-id-2 div.sk-parallel-item::after {content: \"\";width: 100%;border-bottom: 1px solid gray;flex-grow: 1;}#sk-container-id-2 div.sk-label:hover label.sk-toggleable__label {background-color: #d4ebff;}#sk-container-id-2 div.sk-serial::before {content: \"\";position: absolute;border-left: 1px solid gray;box-sizing: border-box;top: 0;bottom: 0;left: 50%;z-index: 0;}#sk-container-id-2 div.sk-serial {display: flex;flex-direction: column;align-items: center;background-color: white;padding-right: 0.2em;padding-left: 0.2em;position: relative;}#sk-container-id-2 div.sk-item {position: relative;z-index: 1;}#sk-container-id-2 div.sk-parallel {display: flex;align-items: stretch;justify-content: center;background-color: white;position: relative;}#sk-container-id-2 div.sk-item::before, #sk-container-id-2 div.sk-parallel-item::before {content: \"\";position: absolute;border-left: 1px solid gray;box-sizing: border-box;top: 0;bottom: 0;left: 50%;z-index: -1;}#sk-container-id-2 div.sk-parallel-item {display: flex;flex-direction: column;z-index: 1;position: relative;background-color: white;}#sk-container-id-2 div.sk-parallel-item:first-child::after {align-self: flex-end;width: 50%;}#sk-container-id-2 div.sk-parallel-item:last-child::after {align-self: flex-start;width: 50%;}#sk-container-id-2 div.sk-parallel-item:only-child::after {width: 0;}#sk-container-id-2 div.sk-dashed-wrapped {border: 1px dashed gray;margin: 0 0.4em 0.5em 0.4em;box-sizing: border-box;padding-bottom: 0.4em;background-color: white;}#sk-container-id-2 div.sk-label label {font-family: monospace;font-weight: bold;display: inline-block;line-height: 1.2em;}#sk-container-id-2 div.sk-label-container {text-align: center;}#sk-container-id-2 div.sk-container {/* jupyter's `normalize.less` sets `[hidden] { display: none; }` but bootstrap.min.css set `[hidden] { display: none !important; }` so we also need the `!important` here to be able to override the default hidden behavior on the sphinx rendered scikit-learn.org. See: https://github.com/scikit-learn/scikit-learn/issues/21755 */display: inline-block !important;position: relative;}#sk-container-id-2 div.sk-text-repr-fallback {display: none;}</style><div id=\"sk-container-id-2\" class=\"sk-top-container\"><div class=\"sk-text-repr-fallback\"><pre>KNeighborsClassifier()</pre><b>In a Jupyter environment, please rerun this cell to show the HTML representation or trust the notebook. <br />On GitHub, the HTML representation is unable to render, please try loading this page with nbviewer.org.</b></div><div class=\"sk-container\" hidden><div class=\"sk-item\"><div class=\"sk-estimator sk-toggleable\"><input class=\"sk-toggleable__control sk-hidden--visually\" id=\"sk-estimator-id-2\" type=\"checkbox\" checked><label for=\"sk-estimator-id-2\" class=\"sk-toggleable__label sk-toggleable__label-arrow\">KNeighborsClassifier</label><div class=\"sk-toggleable__content\"><pre>KNeighborsClassifier()</pre></div></div></div></div></div>"
      ],
      "text/plain": [
       "KNeighborsClassifier()"
      ]
     },
     "execution_count": 30,
     "metadata": {},
     "output_type": "execute_result"
    }
   ],
   "source": [
    "from sklearn.neighbors import KNeighborsClassifier\n",
    "\n",
    "y_train_large = (y_train >= 7)\n",
    "y_train_odd = (y_train%2 == 1)\n",
    "y_multilabel = np.c_[y_train_large, y_train_odd]\n",
    "\n",
    "knn_clf = KNeighborsClassifier()\n",
    "knn_clf.fit(X_train, y_multilabel)"
   ]
  },
  {
   "cell_type": "markdown",
   "id": "a7154980",
   "metadata": {},
   "source": [
    "This code creates a y_multilabel array containing two target labels for each digital image. The first indicates whether or not the digit is large (7, 8, and 9), and the second indicates whether or not it is odd. The next line creates a KNearestNeighbors classifier- *which is one of the classifiers that can do multilabel classification*. Then we train it with the multilabel array. Let's see how it does on our example number:"
   ]
  },
  {
   "cell_type": "code",
   "execution_count": 31,
   "id": "072c7ee0",
   "metadata": {},
   "outputs": [
    {
     "data": {
      "text/plain": [
       "array([[False,  True]])"
      ]
     },
     "execution_count": 31,
     "metadata": {},
     "output_type": "execute_result"
    }
   ],
   "source": [
    "knn_clf.predict([some_digit])"
   ]
  },
  {
   "cell_type": "markdown",
   "id": "85fcce9d",
   "metadata": {},
   "source": [
    "And it gets it right. The digit, 5, is not large (False) and it is odd (True). \n",
    "## Multioutput Classification\n",
    "The last type of classification task that we want to discuss here is called *multioutput-multiclass classification* or just *multioutput classification*. It is a generalization of multilabel classification in which each label can be multiclass (i.e. it can have more than two possible values).\n",
    "\n",
    "To illustrate this, lets make a system that removes noise from an image. It will take a noisy image and hopefully output a clean digital image, representing an array of pixel intensities. Notice, that the classifier's output is multilabel (one label per pixel) and each label can have multiple values (pixel intensities range from 0 to 255). It is thus an example of a multioutput classification system.\n",
    "\n",
    "Let's start by creating the training and testing set by taking the MNIST imagess and adding noise to them using NumPy's randint() function. The target images will be the original images:"
   ]
  },
  {
   "cell_type": "code",
   "execution_count": 33,
   "id": "b7c1430a",
   "metadata": {},
   "outputs": [],
   "source": [
    "noise = np.random.randint(0, 100, (len(X_train), 784))\n",
    "X_train_mod = X_train + noise\n",
    "noise = np.random.randint(0, 100, (len(X_test), 784))\n",
    "X_test_mod = X_test + noise\n",
    "y_train_mod = X_train\n",
    "y_test_mod = X_test"
   ]
  },
  {
   "cell_type": "markdown",
   "id": "01f5bb62",
   "metadata": {},
   "source": [
    "Let's take a peak at an image from the test set (yes, we're snooping the test set so you should be frowning):"
   ]
  },
  {
   "cell_type": "code",
   "execution_count": 37,
   "id": "96dd8ec7",
   "metadata": {},
   "outputs": [
    {
     "data": {
      "image/png": "[encoded data removed]",
      "text/plain": [
       "<Figure size 640x480 with 1 Axes>"
      ]
     },
     "metadata": {},
     "output_type": "display_data"
    }
   ],
   "source": [
    "some_digit = X_test_mod[0]\n",
    "some_digit_image = some_digit.reshape(28, 28)\n",
    "\n",
    "plt.imshow(some_digit_image, cmap='binary')\n",
    "plt.axis(\"off\")\n",
    "plt.show()"
   ]
  },
  {
   "cell_type": "markdown",
   "id": "64374103",
   "metadata": {},
   "source": [
    "This is very noisy. Let's train the classifier and make it clean this image."
   ]
  },
  {
   "cell_type": "code",
   "execution_count": 36,
   "id": "366b7f1c",
   "metadata": {},
   "outputs": [
    {
     "data": {
      "image/png": "[encoded data removed]",
      "text/plain": [
       "<Figure size 640x480 with 1 Axes>"
      ]
     },
     "metadata": {},
     "output_type": "display_data"
    }
   ],
   "source": [
    "knn_clf.fit(X_train_mod, y_train_mod)\n",
    "\n",
    "clean_digit = knn_clf.predict([X_test_mod[0]])\n",
    "clean_digit_image = clean_digit.reshape(28, 28)\n",
    "\n",
    "plt.imshow(clean_digit_image, cmap='binary')\n",
    "plt.axis(\"off\")\n",
    "plt.show()"
   ]
  },
  {
   "cell_type": "markdown",
   "id": "49778314",
   "metadata": {},
   "source": [
    "Looks pretty good! This concludes our tour of classification. We should now know how to select good metrics for classification tasks, pick the appropriat precision/recall point, commpare classifiers, and accomplish a number of different classification tasks."
   ]
  },
  {
   "cell_type": "code",
   "execution_count": null,
   "id": "697b8c47",
   "metadata": {},
   "outputs": [],
   "source": []
  }
 ],
 "metadata": {
  "kernelspec": {
   "display_name": "Python 3 (ipykernel)",
   "language": "python",
   "name": "python3"
  },
  "language_info": {
   "codemirror_mode": {
    "name": "ipython",
    "version": 3
   },
   "file_extension": ".py",
   "mimetype": "text/x-python",
   "name": "python",
   "nbconvert_exporter": "python",
   "pygments_lexer": "ipython3",
   "version": "3.10.6"
  }
 },
 "nbformat": 4,
 "nbformat_minor": 5
}
